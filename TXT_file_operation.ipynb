{
 "cells": [
  {
   "cell_type": "markdown",
   "metadata": {},
   "source": [
    "# txt文件操作"
   ]
  },
  {
   "cell_type": "markdown",
   "metadata": {},
   "source": [
    "* 读取全部内容"
   ]
  },
  {
   "cell_type": "code",
   "execution_count": 7,
   "metadata": {},
   "outputs": [
    {
     "name": "stdout",
     "output_type": "stream",
     "text": [
      "Python （英国发音：/ˈpaɪθən/ 美国发音：/ˈpaɪθɑːn/）, 是一种面向对象的解释型计算机程序设计语言，由荷兰人Guido van Rossum于1989年发明，第一个公开发行版发行于1991年。\n",
      "Python是纯粹的自由软件， 源代码和解释器CPython遵循 GPL(GNU General Public License)协议。\n",
      "Python语法简洁清晰，特色之一是强制用空白符(white space)作为语句缩进。\n",
      "Python具有丰富和强大的库。它常被昵称为胶水语言，能够把用其他语言制作的各种模块（尤其是C/C++）很轻松地联结在一起。常见的一种应用情形是，使用Python快速生成程序的原型（有时甚至是程序的最终界面），然后对其中[3]  有特别要求的部分，用更合适的语言改写，比如3D游戏中的图形渲染模块，性能要求特别高，就可以用C/C++重写，而后封装为Python可以调用的扩展类库。需要注意的是在您使用扩展类库时可能需要考虑平台问题，某些可能不提供跨平台的实现。\n"
     ]
    }
   ],
   "source": [
    "txt_filename = './files/python_baidu.txt'\n",
    "#打开文件\n",
    "file_obj = open(txt_filename,'r',encoding='utf-8') #在进行传输参数的时候一定记得带单引号\n",
    "#读取整个文件\n",
    "all_conent = file_obj.read()\n",
    "#关闭文件\n",
    "file_obj.close()\n",
    "print(all_conent)"
   ]
  },
  {
   "cell_type": "markdown",
   "metadata": {},
   "source": [
    "* 逐行读取"
   ]
  },
  {
   "cell_type": "code",
   "execution_count": 8,
   "metadata": {},
   "outputs": [
    {
     "name": "stdout",
     "output_type": "stream",
     "text": [
      "Python （英国发音：/ˈpaɪθən/ 美国发音：/ˈpaɪθɑːn/）, 是一种面向对象的解释型计算机程序设计语言，由荷兰人Guido van Rossum于1989年发明，第一个公开发行版发行于1991年。\n",
      "\n"
     ]
    }
   ],
   "source": [
    "txt_filename = './files/python_baidu.txt'\n",
    "#打开文件\n",
    "file_obj =open(txt_filename,'r',encoding = 'utf-8')\n",
    "#逐行读取\n",
    "lis = file_obj.readline() #读取一行进行输出\n",
    "print(lis)\n",
    "#关闭文件\n",
    "file_obj.close()"
   ]
  },
  {
   "cell_type": "code",
   "execution_count": 11,
   "metadata": {},
   "outputs": [
    {
     "name": "stdout",
     "output_type": "stream",
     "text": [
      "Python （英国发音：/ˈpaɪθən/ 美国发音：/ˈpaɪθɑːn/）, 是一种面向对象的解释型计算机程序设计语言，由荷兰人Guido van Rossum于1989年发明，第一个公开发行版发行于1991年。\n",
      "\n",
      "Python是纯粹的自由软件， 源代码和解释器CPython遵循 GPL(GNU General Public License)协议。\n",
      "\n",
      "Python语法简洁清晰，特色之一是强制用空白符(white space)作为语句缩进。\n",
      "\n",
      "Python具有丰富和强大的库。它常被昵称为胶水语言，能够把用其他语言制作的各种模块（尤其是C/C++）很轻松地联结在一起。常见的一种应用情形是，使用Python快速生成程序的原型（有时甚至是程序的最终界面），然后对其中[3]  有特别要求的部分，用更合适的语言改写，比如3D游戏中的图形渲染模块，性能要求特别高，就可以用C/C++重写，而后封装为Python可以调用的扩展类库。需要注意的是在您使用扩展类库时可能需要考虑平台问题，某些可能不提供跨平台的实现。\n"
     ]
    }
   ],
   "source": [
    "txt_filename = './files/python_baidu.txt'\n",
    "#打开文件\n",
    "file_obj =open(txt_filename,'r',encoding = 'utf-8')\n",
    "#循环输出\n",
    "lis = file_obj.readlines()\n",
    "for lis1 in lis: \n",
    "    print(lis1)\n",
    "#关闭文件\n",
    "file_obj.close()"
   ]
  },
  {
   "cell_type": "markdown",
   "metadata": {},
   "source": [
    "* 读取全部内容，返回列表"
   ]
  },
  {
   "cell_type": "code",
   "execution_count": 21,
   "metadata": {},
   "outputs": [
    {
     "name": "stdout",
     "output_type": "stream",
     "text": [
      "0: Python （英国发音：/ˈpaɪθən/ 美国发音：/ˈpaɪθɑːn/）, 是一种面向对象的解释型计算机程序设计语言，由荷兰人Guido van Rossum于1989年发明，第一个公开发行版发行于1991年。\n",
      "\n",
      "1: Python是纯粹的自由软件， 源代码和解释器CPython遵循 GPL(GNU General Public License)协议。\n",
      "\n",
      "2: Python语法简洁清晰，特色之一是强制用空白符(white space)作为语句缩进。\n",
      "\n",
      "3: Python具有丰富和强大的库。它常被昵称为胶水语言，能够把用其他语言制作的各种模块（尤其是C/C++）很轻松地联结在一起。常见的一种应用情形是，使用Python快速生成程序的原型（有时甚至是程序的最终界面），然后对其中[3]  有特别要求的部分，用更合适的语言改写，比如3D游戏中的图形渲染模块，性能要求特别高，就可以用C/C++重写，而后封装为Python可以调用的扩展类库。需要注意的是在您使用扩展类库时可能需要考虑平台问题，某些可能不提供跨平台的实现。\n"
     ]
    }
   ],
   "source": [
    "txt_filename = './files/python_baidu.txt'\n",
    "\n",
    "#打开文件\n",
    "file_obj =open(txt_filename,'r',encoding = 'utf-8')\n",
    "\n",
    "#循环输出\n",
    "lis = file_obj.readlines()\n",
    "for i,lis1 in enumerate(lis):#通过使用枚举的方式实现输出 \n",
    "   print ('{}: {}'.format(i, lis1))\n",
    "\n",
    "# 关闭文件\n",
    "file_obj.close()"
   ]
  },
  {
   "cell_type": "markdown",
   "metadata": {},
   "source": [
    "* 写文件操作"
   ]
  },
  {
   "cell_type": "code",
   "execution_count": 20,
   "metadata": {},
   "outputs": [
    {
     "name": "stdout",
     "output_type": "stream",
     "text": [
      "0,《Python数据分析》\n"
     ]
    }
   ],
   "source": [
    "txt_filename = './files/test_write.txt'\n",
    "\n",
    "#打开文件\n",
    "file_obj =open(txt_filename,'a+',encoding = 'utf-8') \n",
    "\n",
    "#开始写文件\n",
    "file_obj.write(\"《Python数据分析》\")\n",
    "\n",
    "#输出最后的文件\n",
    "all_conent = file_obj.readlines()\n",
    "for i,lis in enumerate(all_conent):\n",
    "    print('{},{}'.format(i,lis))\n"
   ]
  },
  {
   "cell_type": "markdown",
   "metadata": {},
   "source": [
    "* 循环写入100行数据"
   ]
  },
  {
   "cell_type": "code",
   "execution_count": 25,
   "metadata": {},
   "outputs": [],
   "source": [
    "txt_filename = './files/test_write.txt'\n",
    "\n",
    "#打开文件\n",
    "file_obj = open(txt_filename,'w',encoding='utf-8')\n",
    "\n",
    "#写入文件\n",
    "lines = ['循环写入了第%i行数据\\n'%n for n in range(100)]\n",
    "file_obj.writelines(lines)\n",
    "file_obj.close()"
   ]
  },
  {
   "cell_type": "markdown",
   "metadata": {},
   "source": [
    "* with 语句"
   ]
  },
  {
   "cell_type": "code",
   "execution_count": 27,
   "metadata": {},
   "outputs": [
    {
     "name": "stdout",
     "output_type": "stream",
     "text": [
      "循环写入了第0行数据\n",
      "循环写入了第1行数据\n",
      "循环写入了第2行数据\n",
      "循环写入了第3行数据\n",
      "循环写入了第4行数据\n",
      "循环写入了第5行数据\n",
      "循环写入了第6行数据\n",
      "循环写入了第7行数据\n",
      "循环写入了第8行数据\n",
      "循环写入了第9行数据\n",
      "循环写入了第10行数据\n",
      "循环写入了第11行数据\n",
      "循环写入了第12行数据\n",
      "循环写入了第13行数据\n",
      "循环写入了第14行数据\n",
      "循环写入了第15行数据\n",
      "循环写入了第16行数据\n",
      "循环写入了第17行数据\n",
      "循环写入了第18行数据\n",
      "循环写入了第19行数据\n",
      "循环写入了第20行数据\n",
      "循环写入了第21行数据\n",
      "循环写入了第22行数据\n",
      "循环写入了第23行数据\n",
      "循环写入了第24行数据\n",
      "循环写入了第25行数据\n",
      "循环写入了第26行数据\n",
      "循环写入了第27行数据\n",
      "循环写入了第28行数据\n",
      "循环写入了第29行数据\n",
      "循环写入了第30行数据\n",
      "循环写入了第31行数据\n",
      "循环写入了第32行数据\n",
      "循环写入了第33行数据\n",
      "循环写入了第34行数据\n",
      "循环写入了第35行数据\n",
      "循环写入了第36行数据\n",
      "循环写入了第37行数据\n",
      "循环写入了第38行数据\n",
      "循环写入了第39行数据\n",
      "循环写入了第40行数据\n",
      "循环写入了第41行数据\n",
      "循环写入了第42行数据\n",
      "循环写入了第43行数据\n",
      "循环写入了第44行数据\n",
      "循环写入了第45行数据\n",
      "循环写入了第46行数据\n",
      "循环写入了第47行数据\n",
      "循环写入了第48行数据\n",
      "循环写入了第49行数据\n",
      "循环写入了第50行数据\n",
      "循环写入了第51行数据\n",
      "循环写入了第52行数据\n",
      "循环写入了第53行数据\n",
      "循环写入了第54行数据\n",
      "循环写入了第55行数据\n",
      "循环写入了第56行数据\n",
      "循环写入了第57行数据\n",
      "循环写入了第58行数据\n",
      "循环写入了第59行数据\n",
      "循环写入了第60行数据\n",
      "循环写入了第61行数据\n",
      "循环写入了第62行数据\n",
      "循环写入了第63行数据\n",
      "循环写入了第64行数据\n",
      "循环写入了第65行数据\n",
      "循环写入了第66行数据\n",
      "循环写入了第67行数据\n",
      "循环写入了第68行数据\n",
      "循环写入了第69行数据\n",
      "循环写入了第70行数据\n",
      "循环写入了第71行数据\n",
      "循环写入了第72行数据\n",
      "循环写入了第73行数据\n",
      "循环写入了第74行数据\n",
      "循环写入了第75行数据\n",
      "循环写入了第76行数据\n",
      "循环写入了第77行数据\n",
      "循环写入了第78行数据\n",
      "循环写入了第79行数据\n",
      "循环写入了第80行数据\n",
      "循环写入了第81行数据\n",
      "循环写入了第82行数据\n",
      "循环写入了第83行数据\n",
      "循环写入了第84行数据\n",
      "循环写入了第85行数据\n",
      "循环写入了第86行数据\n",
      "循环写入了第87行数据\n",
      "循环写入了第88行数据\n",
      "循环写入了第89行数据\n",
      "循环写入了第90行数据\n",
      "循环写入了第91行数据\n",
      "循环写入了第92行数据\n",
      "循环写入了第93行数据\n",
      "循环写入了第94行数据\n",
      "循环写入了第95行数据\n",
      "循环写入了第96行数据\n",
      "循环写入了第97行数据\n",
      "循环写入了第98行数据\n",
      "循环写入了第99行数据\n",
      "\n"
     ]
    }
   ],
   "source": [
    "#打开文件\n",
    "txt_filename = './files/test_write.txt'\n",
    "\n",
    "#循环读出文件的操作\n",
    "with open(txt_filename,'r',encoding = 'utf-8') as f_obj:\n",
    "    print(f_obj.read())\n"
   ]
  },
  {
   "cell_type": "code",
   "execution_count": null,
   "metadata": {},
   "outputs": [],
   "source": []
  }
 ],
 "metadata": {
  "kernelspec": {
   "display_name": "Python 3",
   "language": "python",
   "name": "python3"
  },
  "language_info": {
   "codemirror_mode": {
    "name": "ipython",
    "version": 3
   },
   "file_extension": ".py",
   "mimetype": "text/x-python",
   "name": "python",
   "nbconvert_exporter": "python",
   "pygments_lexer": "ipython3",
   "version": "3.6.4"
  }
 },
 "nbformat": 4,
 "nbformat_minor": 2
}

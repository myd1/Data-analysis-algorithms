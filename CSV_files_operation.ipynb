{
 "cells": [
  {
   "cell_type": "markdown",
   "metadata": {},
   "source": [
    "# CSV文件操作"
   ]
  },
  {
   "cell_type": "markdown",
   "metadata": {},
   "source": [
    "* CSV读取操作：对于csv 文件需要使用pandas进行文件读取"
   ]
  },
  {
   "cell_type": "code",
   "execution_count": 2,
   "metadata": {},
   "outputs": [
    {
     "name": "stdout",
     "output_type": "stream",
     "text": [
      "            国家  男性  女性\n",
      "0       Norway   0   1\n",
      "1  Philippines   0   1\n",
      "2     Slovenia   0   1\n",
      "3      Ireland   4  23\n",
      "4      Nigeria   0   1\n",
      "<class 'pandas.core.frame.DataFrame'>\n"
     ]
    }
   ],
   "source": [
    "#导入包\n",
    "import pandas as pd\n",
    "\n",
    "#文件读取\n",
    "filename = './files/gender_country.csv'\n",
    "df = pd.read_csv(filename, encoding='utf-16') #文件名，解码格式\n",
    "\n",
    "#数据摘要输出\n",
    "print(df.head())\n",
    "print(type(df))"
   ]
  },
  {
   "cell_type": "markdown",
   "metadata": {},
   "source": [
    "* 输出某一列"
   ]
  },
  {
   "cell_type": "code",
   "execution_count": 6,
   "metadata": {},
   "outputs": [
    {
     "name": "stdout",
     "output_type": "stream",
     "text": [
      "0         Norway\n",
      "1    Philippines\n",
      "2       Slovenia\n",
      "3        Ireland\n",
      "4        Nigeria\n",
      "Name: 国家, dtype: object\n"
     ]
    }
   ],
   "source": [
    "country_se = df[u'国家'] #输出其中一列\n",
    "print(country_se.head())"
   ]
  },
  {
   "cell_type": "markdown",
   "metadata": {},
   "source": [
    "* 在选其中一行"
   ]
  },
  {
   "cell_type": "code",
   "execution_count": 9,
   "metadata": {},
   "outputs": [
    {
     "name": "stdout",
     "output_type": "stream",
     "text": [
      "0    0\n",
      "1    0\n",
      "2    0\n",
      "3    4\n",
      "4    0\n",
      "Name: 男性, dtype: int64\n"
     ]
    }
   ],
   "source": [
    "sex_se = df[u'男性'] #输出其中一列\n",
    "print(sex_se.head())"
   ]
  },
  {
   "cell_type": "markdown",
   "metadata": {},
   "source": [
    "* 采用pandas进行写入数据"
   ]
  },
  {
   "cell_type": "code",
   "execution_count": 10,
   "metadata": {},
   "outputs": [],
   "source": [
    "filename = './files/pandas_output.csv'\n",
    "df.to_csv(filename, index=None, encoding = 'utf-8') # index=None表示写入是前面的索引值不被写入"
   ]
  },
  {
   "cell_type": "markdown",
   "metadata": {},
   "source": [
    "* 在进行数据操作时，能够使用csv格式的数据尽量使用csv格式，不要直接使用xlsx格式，使用时首先将格式转化为csv在进行"
   ]
  }
 ],
 "metadata": {
  "kernelspec": {
   "display_name": "Python 3",
   "language": "python",
   "name": "python3"
  },
  "language_info": {
   "codemirror_mode": {
    "name": "ipython",
    "version": 3
   },
   "file_extension": ".py",
   "mimetype": "text/x-python",
   "name": "python",
   "nbconvert_exporter": "python",
   "pygments_lexer": "ipython3",
   "version": "3.6.4"
  }
 },
 "nbformat": 4,
 "nbformat_minor": 2
}
